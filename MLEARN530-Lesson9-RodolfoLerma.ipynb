{
 "cells": [
  {
   "cell_type": "markdown",
   "metadata": {},
   "source": [
    "# Modeling Explainability (Assignment 9)\n",
    "\n",
    "## Student: Rodolfo Lerma"
   ]
  },
  {
   "cell_type": "markdown",
   "metadata": {},
   "source": [
    "In this assignment, you will use `LIME` library to perform local explanations using surrogate modelsto explain the results of Random Forest Classifier models."
   ]
  },
  {
   "cell_type": "code",
   "execution_count": 1,
   "metadata": {},
   "outputs": [],
   "source": [
    "# pip install plotly"
   ]
  },
  {
   "cell_type": "code",
   "execution_count": 2,
   "metadata": {},
   "outputs": [],
   "source": [
    "# !pip install lime"
   ]
  },
  {
   "cell_type": "markdown",
   "metadata": {},
   "source": [
    "[BOOK for this](https://github.com/ajaymache/machine-learning-yearning)"
   ]
  },
  {
   "cell_type": "code",
   "execution_count": 3,
   "metadata": {},
   "outputs": [],
   "source": [
    "import pandas as pd\n",
    "import numpy as np\n",
    "import sklearn\n",
    "from sklearn.ensemble import RandomForestClassifier\n",
    "from sklearn.model_selection import train_test_split\n",
    "import warnings\n",
    "np.random.seed(0)\n",
    "import matplotlib.pyplot as plt\n",
    "import seaborn as sns\n",
    "#import plotly\n",
    "import matplotlib\n",
    "matplotlib.rcParams['figure.figsize'] = [10, 7]\n",
    "\n",
    "# warnings.filterwarnings('ignore')\n",
    "# import lime\n",
    "# import lime.lime_tabular"
   ]
  },
  {
   "cell_type": "code",
   "execution_count": 4,
   "metadata": {},
   "outputs": [
    {
     "data": {
      "text/html": [
       "<div>\n",
       "<style scoped>\n",
       "    .dataframe tbody tr th:only-of-type {\n",
       "        vertical-align: middle;\n",
       "    }\n",
       "\n",
       "    .dataframe tbody tr th {\n",
       "        vertical-align: top;\n",
       "    }\n",
       "\n",
       "    .dataframe thead th {\n",
       "        text-align: right;\n",
       "    }\n",
       "</style>\n",
       "<table border=\"1\" class=\"dataframe\">\n",
       "  <thead>\n",
       "    <tr style=\"text-align: right;\">\n",
       "      <th></th>\n",
       "      <th>artist.familiarity</th>\n",
       "      <th>artist.hotttnesss</th>\n",
       "      <th>artist.id</th>\n",
       "      <th>artist.latitude</th>\n",
       "      <th>artist.location</th>\n",
       "      <th>artist.longitude</th>\n",
       "      <th>artist.name</th>\n",
       "      <th>artist.similar</th>\n",
       "      <th>artist.terms</th>\n",
       "      <th>artist.terms_freq</th>\n",
       "      <th>...</th>\n",
       "      <th>song.mode</th>\n",
       "      <th>song.mode_confidence</th>\n",
       "      <th>song.start_of_fade_out</th>\n",
       "      <th>song.tatums_confidence</th>\n",
       "      <th>song.tatums_start</th>\n",
       "      <th>song.tempo</th>\n",
       "      <th>song.time_signature</th>\n",
       "      <th>song.time_signature_confidence</th>\n",
       "      <th>song.title</th>\n",
       "      <th>song.year</th>\n",
       "    </tr>\n",
       "  </thead>\n",
       "  <tbody>\n",
       "    <tr>\n",
       "      <th>0</th>\n",
       "      <td>0.581794</td>\n",
       "      <td>0.401998</td>\n",
       "      <td>ARD7TVE1187B99BFB1</td>\n",
       "      <td>0.00000</td>\n",
       "      <td>0</td>\n",
       "      <td>0.00000</td>\n",
       "      <td>Casual</td>\n",
       "      <td>0.0</td>\n",
       "      <td>hip hop</td>\n",
       "      <td>1.000000</td>\n",
       "      <td>...</td>\n",
       "      <td>0</td>\n",
       "      <td>0.636</td>\n",
       "      <td>218.932</td>\n",
       "      <td>0.779</td>\n",
       "      <td>0.28519</td>\n",
       "      <td>92.198</td>\n",
       "      <td>4.0</td>\n",
       "      <td>0.778</td>\n",
       "      <td>0</td>\n",
       "      <td>0</td>\n",
       "    </tr>\n",
       "    <tr>\n",
       "      <th>1</th>\n",
       "      <td>0.630630</td>\n",
       "      <td>0.417500</td>\n",
       "      <td>ARMJAGH1187FB546F3</td>\n",
       "      <td>35.14968</td>\n",
       "      <td>0</td>\n",
       "      <td>-90.04892</td>\n",
       "      <td>The Box Tops</td>\n",
       "      <td>0.0</td>\n",
       "      <td>blue-eyed soul</td>\n",
       "      <td>1.000000</td>\n",
       "      <td>...</td>\n",
       "      <td>0</td>\n",
       "      <td>0.430</td>\n",
       "      <td>137.915</td>\n",
       "      <td>0.969</td>\n",
       "      <td>0.20627</td>\n",
       "      <td>121.274</td>\n",
       "      <td>4.0</td>\n",
       "      <td>0.384</td>\n",
       "      <td>0</td>\n",
       "      <td>1969</td>\n",
       "    </tr>\n",
       "    <tr>\n",
       "      <th>2</th>\n",
       "      <td>0.487357</td>\n",
       "      <td>0.343428</td>\n",
       "      <td>ARKRRTF1187B9984DA</td>\n",
       "      <td>0.00000</td>\n",
       "      <td>0</td>\n",
       "      <td>0.00000</td>\n",
       "      <td>Sonora Santanera</td>\n",
       "      <td>0.0</td>\n",
       "      <td>salsa</td>\n",
       "      <td>1.000000</td>\n",
       "      <td>...</td>\n",
       "      <td>1</td>\n",
       "      <td>0.565</td>\n",
       "      <td>172.304</td>\n",
       "      <td>0.482</td>\n",
       "      <td>0.42132</td>\n",
       "      <td>100.070</td>\n",
       "      <td>1.0</td>\n",
       "      <td>0.000</td>\n",
       "      <td>0</td>\n",
       "      <td>0</td>\n",
       "    </tr>\n",
       "    <tr>\n",
       "      <th>3</th>\n",
       "      <td>0.630382</td>\n",
       "      <td>0.454231</td>\n",
       "      <td>AR7G5I41187FB4CE6C</td>\n",
       "      <td>0.00000</td>\n",
       "      <td>0</td>\n",
       "      <td>0.00000</td>\n",
       "      <td>Adam Ant</td>\n",
       "      <td>0.0</td>\n",
       "      <td>pop rock</td>\n",
       "      <td>0.988584</td>\n",
       "      <td>...</td>\n",
       "      <td>1</td>\n",
       "      <td>0.749</td>\n",
       "      <td>217.124</td>\n",
       "      <td>0.601</td>\n",
       "      <td>0.56254</td>\n",
       "      <td>119.293</td>\n",
       "      <td>4.0</td>\n",
       "      <td>0.000</td>\n",
       "      <td>0</td>\n",
       "      <td>1982</td>\n",
       "    </tr>\n",
       "    <tr>\n",
       "      <th>4</th>\n",
       "      <td>0.651046</td>\n",
       "      <td>0.401724</td>\n",
       "      <td>ARXR32B1187FB57099</td>\n",
       "      <td>0.00000</td>\n",
       "      <td>0</td>\n",
       "      <td>0.00000</td>\n",
       "      <td>Gob</td>\n",
       "      <td>0.0</td>\n",
       "      <td>pop punk</td>\n",
       "      <td>0.887288</td>\n",
       "      <td>...</td>\n",
       "      <td>1</td>\n",
       "      <td>0.371</td>\n",
       "      <td>198.699</td>\n",
       "      <td>1.000</td>\n",
       "      <td>0.13576</td>\n",
       "      <td>129.738</td>\n",
       "      <td>4.0</td>\n",
       "      <td>0.562</td>\n",
       "      <td>0</td>\n",
       "      <td>2007</td>\n",
       "    </tr>\n",
       "  </tbody>\n",
       "</table>\n",
       "<p>5 rows × 35 columns</p>\n",
       "</div>"
      ],
      "text/plain": [
       "   artist.familiarity  artist.hotttnesss           artist.id  artist.latitude  \\\n",
       "0            0.581794           0.401998  ARD7TVE1187B99BFB1          0.00000   \n",
       "1            0.630630           0.417500  ARMJAGH1187FB546F3         35.14968   \n",
       "2            0.487357           0.343428  ARKRRTF1187B9984DA          0.00000   \n",
       "3            0.630382           0.454231  AR7G5I41187FB4CE6C          0.00000   \n",
       "4            0.651046           0.401724  ARXR32B1187FB57099          0.00000   \n",
       "\n",
       "   artist.location  artist.longitude       artist.name  artist.similar  \\\n",
       "0                0           0.00000            Casual             0.0   \n",
       "1                0         -90.04892      The Box Tops             0.0   \n",
       "2                0           0.00000  Sonora Santanera             0.0   \n",
       "3                0           0.00000          Adam Ant             0.0   \n",
       "4                0           0.00000               Gob             0.0   \n",
       "\n",
       "     artist.terms  artist.terms_freq  ...  song.mode  song.mode_confidence  \\\n",
       "0         hip hop           1.000000  ...          0                 0.636   \n",
       "1  blue-eyed soul           1.000000  ...          0                 0.430   \n",
       "2           salsa           1.000000  ...          1                 0.565   \n",
       "3        pop rock           0.988584  ...          1                 0.749   \n",
       "4        pop punk           0.887288  ...          1                 0.371   \n",
       "\n",
       "   song.start_of_fade_out  song.tatums_confidence  song.tatums_start  \\\n",
       "0                 218.932                   0.779            0.28519   \n",
       "1                 137.915                   0.969            0.20627   \n",
       "2                 172.304                   0.482            0.42132   \n",
       "3                 217.124                   0.601            0.56254   \n",
       "4                 198.699                   1.000            0.13576   \n",
       "\n",
       "   song.tempo  song.time_signature  song.time_signature_confidence  \\\n",
       "0      92.198                  4.0                           0.778   \n",
       "1     121.274                  4.0                           0.384   \n",
       "2     100.070                  1.0                           0.000   \n",
       "3     119.293                  4.0                           0.000   \n",
       "4     129.738                  4.0                           0.562   \n",
       "\n",
       "   song.title  song.year  \n",
       "0           0          0  \n",
       "1           0       1969  \n",
       "2           0          0  \n",
       "3           0       1982  \n",
       "4           0       2007  \n",
       "\n",
       "[5 rows x 35 columns]"
      ]
     },
     "execution_count": 4,
     "metadata": {},
     "output_type": "execute_result"
    }
   ],
   "source": [
    "df_data = pd.read_csv('./music.xls')\n",
    "df_data.head()"
   ]
  },
  {
   "cell_type": "code",
   "execution_count": 5,
   "metadata": {},
   "outputs": [
    {
     "data": {
      "text/plain": [
       "(10000, 35)"
      ]
     },
     "execution_count": 5,
     "metadata": {},
     "output_type": "execute_result"
    }
   ],
   "source": [
    "df_data.shape"
   ]
  },
  {
   "cell_type": "code",
   "execution_count": 6,
   "metadata": {},
   "outputs": [
    {
     "data": {
      "text/plain": [
       "artist.familiarity                float64\n",
       "artist.hotttnesss                 float64\n",
       "artist.id                          object\n",
       "artist.latitude                   float64\n",
       "artist.location                     int64\n",
       "artist.longitude                  float64\n",
       "artist.name                        object\n",
       "artist.similar                    float64\n",
       "artist.terms                       object\n",
       "artist.terms_freq                 float64\n",
       "release.id                          int64\n",
       "release.name                        int64\n",
       "song.artist_mbtags                float64\n",
       "song.artist_mbtags_count          float64\n",
       "song.bars_confidence              float64\n",
       "song.bars_start                   float64\n",
       "song.beats_confidence             float64\n",
       "song.beats_start                  float64\n",
       "song.duration                     float64\n",
       "song.end_of_fade_in               float64\n",
       "song.hotttnesss                   float64\n",
       "song.id                            object\n",
       "song.key                          float64\n",
       "song.key_confidence               float64\n",
       "song.loudness                     float64\n",
       "song.mode                           int64\n",
       "song.mode_confidence              float64\n",
       "song.start_of_fade_out            float64\n",
       "song.tatums_confidence            float64\n",
       "song.tatums_start                 float64\n",
       "song.tempo                        float64\n",
       "song.time_signature               float64\n",
       "song.time_signature_confidence    float64\n",
       "song.title                          int64\n",
       "song.year                           int64\n",
       "dtype: object"
      ]
     },
     "execution_count": 6,
     "metadata": {},
     "output_type": "execute_result"
    }
   ],
   "source": [
    "df_data.dtypes"
   ]
  },
  {
   "cell_type": "markdown",
   "metadata": {},
   "source": [
    "### Question 1.1: Create the target of popular artists where artist familiarity is greater than 0.8 and artist hotttness is greater than 0.6."
   ]
  },
  {
   "cell_type": "code",
   "execution_count": 10,
   "metadata": {},
   "outputs": [],
   "source": [
    "df_data['class'] = np.where((df_data['artist.familiarity'] > 0.8) & (df_data['artist.hotttnesss'] > 0.6),\n",
    "                            1, 0)"
   ]
  },
  {
   "cell_type": "code",
   "execution_count": 18,
   "metadata": {},
   "outputs": [],
   "source": [
    "#Use Grouby on class and count artist.id\n",
    "artists = df_data.groupby(['class']).count()['artist.id']"
   ]
  },
  {
   "cell_type": "code",
   "execution_count": 19,
   "metadata": {},
   "outputs": [
    {
     "data": {
      "text/plain": [
       "class\n",
       "0    9605\n",
       "1     395\n",
       "Name: artist.id, dtype: int64"
      ]
     },
     "execution_count": 19,
     "metadata": {},
     "output_type": "execute_result"
    }
   ],
   "source": [
    "artists"
   ]
  },
  {
   "cell_type": "markdown",
   "metadata": {},
   "source": [
    "### Question 1.2: Train a Random Forest Classifier with 100 estimators considering these variables:\n",
    "* vars_keep = ['song.bars_confidence', 'song.bars_start', 'song.beats_confidence', 'song.beats_start', 'song.duration', 'song.end_of_fade_in', 'song.hotttnesss', 'song.key_confidence', 'song.loudness', 'song.mode', 'song.mode_confidence', 'song.start_of_fade_out', 'song.tatums_confidence', 'song.tatums_start', 'song.tempo', 'song.time_signature', 'song.time_signature_confidence']\n"
   ]
  },
  {
   "cell_type": "code",
   "execution_count": 20,
   "metadata": {},
   "outputs": [
    {
     "name": "stdout",
     "output_type": "stream",
     "text": [
      "Training set size - X_train: (8000, 17) \n",
      "Training set size - X_test: (2000, 17) \n"
     ]
    }
   ],
   "source": [
    "vars_keep = ['song.bars_confidence', \n",
    "             'song.bars_start', \n",
    "             'song.beats_confidence', \n",
    "             'song.beats_start', \n",
    "             'song.duration', \n",
    "             'song.end_of_fade_in', \n",
    "             'song.hotttnesss', \n",
    "             'song.key_confidence', \n",
    "             'song.loudness', \n",
    "             'song.mode', \n",
    "             'song.mode_confidence', \n",
    "             'song.start_of_fade_out', \n",
    "             'song.tatums_confidence', \n",
    "             'song.tatums_start', \n",
    "             'song.tempo', \n",
    "             'song.time_signature', \n",
    "             'song.time_signature_confidence']\n",
    "\n",
    "X = df_data[vars_keep]\n",
    "y = df_data['class']\n",
    "X_train, X_test, Y_train, Y_test = train_test_split(X, y, test_size = 0.2, random_state = 0)\n",
    "print('Training set size - X_train: {} '.format(X_train.shape))\n",
    "print('Training set size - X_test: {} '.format(X_test.shape))"
   ]
  },
  {
   "cell_type": "code",
   "execution_count": null,
   "metadata": {},
   "outputs": [],
   "source": [
    "#RandomForestClassifier n_estimates =100, oob_score = True, random_state = 123456\n",
    "rf = RandomForestClassifier(#To Do)\n",
    "rf.fit(X_train, Y_train)"
   ]
  },
  {
   "cell_type": "markdown",
   "metadata": {},
   "source": [
    "### Question 2.1: Initializing the LIME explainer. You need to include the following conditions - feature_names, class_names, verbose, discretize_continuous, and mode. It is important to note that when you tune class_name that the order is important."
   ]
  },
  {
   "cell_type": "code",
   "execution_count": null,
   "metadata": {},
   "outputs": [],
   "source": [
    "explainer = lime.lime_tabular.LimeTabularExplainer(#To Do)"
   ]
  },
  {
   "cell_type": "markdown",
   "metadata": {},
   "source": [
    "For this assignment, you need to visit the [documentation](https://github.com/marcotcr/lime) for `LIME` and find out how you can pass an instance to get a local explanation and produce some visualizations. Since we are using `LimeTabularExplainer`, you can focus on that in the documentation (example notebooks are provided)."
   ]
  },
  {
   "cell_type": "markdown",
   "metadata": {},
   "source": [
    "### Question 2.2: Choose an instance from the test data, and obtain explanations for it. The explanations should include no more than 5 features (the top 5)."
   ]
  },
  {
   "cell_type": "code",
   "execution_count": null,
   "metadata": {},
   "outputs": [],
   "source": [
    "instance_num = #To Do\n",
    "\n",
    "local_exp = explainer.explain_instance(X_test.iloc[instance_num], rf.predict_proba, num_features = #To Do)"
   ]
  },
  {
   "cell_type": "markdown",
   "metadata": {},
   "source": [
    "### Question 2.3: Produce a feature importance plot for the explanation. HINT: `LIME` has a method for this. You only need to call it. <span style=\"color:red\" float:right>; # you need the semi-colon otherwise two dublicate plots are produced</span>"
   ]
  },
  {
   "cell_type": "code",
   "execution_count": null,
   "metadata": {},
   "outputs": [],
   "source": [
    "#Plot"
   ]
  },
  {
   "cell_type": "code",
   "execution_count": null,
   "metadata": {},
   "outputs": [],
   "source": [
    "#Show local_exp data frame as a list\n",
    "#To Do"
   ]
  },
  {
   "cell_type": "markdown",
   "metadata": {},
   "source": [
    "### Quesiont 3: Call the `show_in_notebook` method to show a summary of the explanation. Set show_table = True, show_all = True"
   ]
  },
  {
   "cell_type": "code",
   "execution_count": null,
   "metadata": {
    "scrolled": true
   },
   "outputs": [],
   "source": [
    "#To Do"
   ]
  },
  {
   "cell_type": "markdown",
   "metadata": {},
   "source": [
    "### Question 4: Interpret the results shown by calling `show_in_notebook`. Confirm that the predicted probability shown on the left matches the predicted probability we get by calling the model directly on the instance."
   ]
  },
  {
   "cell_type": "code",
   "execution_count": null,
   "metadata": {},
   "outputs": [],
   "source": [
    "#To Do"
   ]
  },
  {
   "cell_type": "markdown",
   "metadata": {},
   "source": [
    "### [Bonus] Question 5: Repeat the above steps with a Support Vector Machine Classifier. What conclusions to you draw about model explainablity."
   ]
  },
  {
   "cell_type": "code",
   "execution_count": null,
   "metadata": {},
   "outputs": [],
   "source": []
  },
  {
   "cell_type": "markdown",
   "metadata": {},
   "source": [
    "### Question 6: Create a new text cell in your Notebook: Complete a 50-100 word summary (or short description of your thinking in applying this week's learning to the solution) of your experience in this assignment. Include: \n",
    "- What was your incoming experience with this model, if any? \n",
    "- what steps you took, what obstacles you encountered?\n",
    "- How you link this exercise to real-world, machine learning problem-solving?\n",
    "- What steps were missing? \n",
    "- What else do you need to learn?"
   ]
  },
  {
   "cell_type": "markdown",
   "metadata": {},
   "source": []
  }
 ],
 "metadata": {
  "kernelspec": {
   "display_name": "Python 3",
   "language": "python",
   "name": "python3"
  },
  "language_info": {
   "codemirror_mode": {
    "name": "ipython",
    "version": 3
   },
   "file_extension": ".py",
   "mimetype": "text/x-python",
   "name": "python",
   "nbconvert_exporter": "python",
   "pygments_lexer": "ipython3",
   "version": "3.7.3"
  }
 },
 "nbformat": 4,
 "nbformat_minor": 2
}
